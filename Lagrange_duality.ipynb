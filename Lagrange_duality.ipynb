{
 "cells": [
  {
   "cell_type": "code",
   "execution_count": 2,
   "id": "3f7d9fe8",
   "metadata": {},
   "outputs": [],
   "source": [
    "import numpy as np\n",
    "from tqdm import trange"
   ]
  },
  {
   "cell_type": "code",
   "execution_count": 3,
   "id": "6ba2df38",
   "metadata": {},
   "outputs": [
    {
     "name": "stdout",
     "output_type": "stream",
     "text": [
      "[23 31 31 82 60 91 20 18 67 83  7 83 56 73 62 98  7 81 34 98 97 81  5 58\n",
      " 83 43 86 68 94 52  7 39 71 51 81]\n",
      "[[16 38 64 66 28 29 57 34 96 94 30 78 24 41 71  8 13  8 14 10 31 56 90  8\n",
      "  24 92 43 96 41 55 37 89 40  7 75]\n",
      " [56 35 51 82 45 45 65 28 98 94 32 47 70 75 82 58 68 71 92 16 27 53 69 32\n",
      "  73 62 69 75 39 96 89 99 55 34 16]\n",
      " [75 30 30 49 24 56 46 48 50 84 23 21 92 91 50 66 26 14 84 39 13 55 68 30\n",
      "  83 93 83 34 92 23 18 72 66 24 24]\n",
      " [85 58 49 98 23 65 50 99 49 57 59 70 29 75 29 20 46 76 27 36 30 99 54 33\n",
      "  44  8 51 62 86 19 43 46 31 59 51]\n",
      " [76  7 94 48 44 23 78 23 13 32 48 89 91 79 81 28 50 45  6 26 51 52 39 34\n",
      "  69 12 22 52 72  7 18 80 18 15 86]\n",
      " [13 21 52 68 77 76 10 41 87 19 65 59 80 88 52 92 35 83 39 98  5 35 57  5\n",
      "  15 22 47 20 46 51 83  9 69 51 81]\n",
      " [13 10 62 10 80 52 29 84 26 57 45 28 96 18 32 16 48 67 53 66 95 11 76 49\n",
      "   5 92 19 18 25 68 28 10 56 55 63]\n",
      " [34 51 23 50 35 74 13 10 17 67 45 58 41 45 14 41 56 92 41 61 46 10 72 56\n",
      "  18 81 76 64 57 53 19 95 94 24 59]\n",
      " [22 65 86 56 58 65 89 72 57 18 14 67 87 30 88 25 67 13 49 66 15 74 22 70\n",
      "  60 87 17 86 60 18 19 28 67 83 94]\n",
      " [52  9 21 74 96 96 79 62 44 16 79 24 68 36 57  8 32 41 71 14 46 50 27 41\n",
      "  79 73 70 88 19 39 10 41 54 40  5]]\n",
      "[ 823 1214  962  936  819  962  803  950 1024  855]\n"
     ]
    }
   ],
   "source": [
    "with open('generated_input.txt') as f:\n",
    "    lines = (line.rstrip() for line in f) # All lines including the blank ones\n",
    "    lines = list(line for line in lines if line) # Non-blank lines\n",
    "\n",
    "n, m = map(int, lines[0].split())\n",
    "v = np.array(list(map(int, lines[1].split())))\n",
    "A = np.zeros(shape = (m, n), dtype=int)\n",
    "for i in range(2, m+2):\n",
    "    A[i-2][:] = np.array(list(map(int, lines[i].split())))[:]\n",
    "b = np.array(list(map(int, lines[m+2].split())))\n",
    "\n",
    "print(v, A, b, sep = '\\n')"
   ]
  },
  {
   "cell_type": "code",
   "execution_count": 4,
   "id": "c0751306",
   "metadata": {},
   "outputs": [],
   "source": [
    "seed = 12423453\n",
    "rng = np.random.default_rng(seed=seed)"
   ]
  },
  {
   "cell_type": "code",
   "execution_count": 5,
   "id": "8e6e8637",
   "metadata": {},
   "outputs": [],
   "source": [
    "#x = np.random.randint(2, size = n)\n",
    "\n",
    "lamb = rng.uniform(0, 0.05, size=m-1)"
   ]
  },
  {
   "cell_type": "code",
   "execution_count": 6,
   "id": "80ed7fb3",
   "metadata": {},
   "outputs": [
    {
     "name": "stdout",
     "output_type": "stream",
     "text": [
      "[0.02956388 0.02816491 0.04159694 0.01545897 0.01886497 0.03838833\n",
      " 0.04705427 0.01917982 0.02209457]\n"
     ]
    }
   ],
   "source": [
    "print(lamb)"
   ]
  },
  {
   "cell_type": "code",
   "execution_count": 7,
   "id": "3c557cf4",
   "metadata": {},
   "outputs": [],
   "source": [
    "# f(x) -> max target of a knapsack problem\n",
    "def target_function(x_, v_=v):\n",
    "    return np.dot(x_, v_)\n",
    "\n",
    "def Gm(x_, b_ = b, A_ = A):\n",
    "    g = b[-1] - A_[-1] @ x_.T\n",
    "    return g\n",
    "\n",
    "# lamb - m-1 x 1 vector of real numbers\n",
    "# x (= {0,1}^n\n",
    "def Lagrange_function_example(x_, lamb_, v_ = v, A_ = A, b_ = b):\n",
    "    g = A_[:] @ x_.T\n",
    "    g[:] = b_[:] - g[:]\n",
    "    L = target_function(x_) + lamb_ @ g[:-1]\n",
    "    return L"
   ]
  },
  {
   "cell_type": "code",
   "execution_count": 8,
   "id": "8a649ae4",
   "metadata": {},
   "outputs": [],
   "source": [
    "def full_enum(n, A_ = A, b_ = b):\n",
    "    curr_max = 0\n",
    "    sol_max = np.zeros(shape=n)\n",
    "    for num in trange(1, 2**n-1):\n",
    "        sol = np.zeros(shape=n)\n",
    "        c = num\n",
    "        i = 0\n",
    "        while c > 0:\n",
    "            sol[i] = c % 2\n",
    "            c = c // 2\n",
    "            i += 1\n",
    "        curr = Lagrange_function_example(sol, lamb)\n",
    "        if curr > curr_max and A_[-1] @ sol < b_[-1]:\n",
    "            curr_max = curr.copy()\n",
    "            sol_max = sol.copy()\n",
    "    return curr_max, sol_max"
   ]
  },
  {
   "cell_type": "code",
   "execution_count": 9,
   "id": "babaed19",
   "metadata": {},
   "outputs": [
    {
     "name": "stderr",
     "output_type": "stream",
     "text": [
      "  0%|          | 634495/34359738366 [00:18<273:04:40, 34950.46it/s]\n"
     ]
    },
    {
     "ename": "KeyboardInterrupt",
     "evalue": "",
     "output_type": "error",
     "traceback": [
      "\u001b[1;31m---------------------------------------------------------------------------\u001b[0m",
      "\u001b[1;31mKeyboardInterrupt\u001b[0m                         Traceback (most recent call last)",
      "\u001b[1;32m~\\AppData\\Local\\Temp/ipykernel_764/1056490125.py\u001b[0m in \u001b[0;36m<module>\u001b[1;34m\u001b[0m\n\u001b[1;32m----> 1\u001b[1;33m \u001b[0mupper\u001b[0m\u001b[1;33m,\u001b[0m \u001b[0ms\u001b[0m \u001b[1;33m=\u001b[0m \u001b[0mfull_enum\u001b[0m\u001b[1;33m(\u001b[0m\u001b[0mA\u001b[0m\u001b[1;33m.\u001b[0m\u001b[0mshape\u001b[0m\u001b[1;33m[\u001b[0m\u001b[1;36m1\u001b[0m\u001b[1;33m]\u001b[0m\u001b[1;33m)\u001b[0m\u001b[1;33m\u001b[0m\u001b[1;33m\u001b[0m\u001b[0m\n\u001b[0m",
      "\u001b[1;32m~\\AppData\\Local\\Temp/ipykernel_764/2850869124.py\u001b[0m in \u001b[0;36mfull_enum\u001b[1;34m(n, A_, b_)\u001b[0m\n\u001b[0;32m     10\u001b[0m             \u001b[0mc\u001b[0m \u001b[1;33m=\u001b[0m \u001b[0mc\u001b[0m \u001b[1;33m//\u001b[0m \u001b[1;36m2\u001b[0m\u001b[1;33m\u001b[0m\u001b[1;33m\u001b[0m\u001b[0m\n\u001b[0;32m     11\u001b[0m             \u001b[0mi\u001b[0m \u001b[1;33m+=\u001b[0m \u001b[1;36m1\u001b[0m\u001b[1;33m\u001b[0m\u001b[1;33m\u001b[0m\u001b[0m\n\u001b[1;32m---> 12\u001b[1;33m         \u001b[0mcurr\u001b[0m \u001b[1;33m=\u001b[0m \u001b[0mLagrange_function_example\u001b[0m\u001b[1;33m(\u001b[0m\u001b[0msol\u001b[0m\u001b[1;33m,\u001b[0m \u001b[0mlamb\u001b[0m\u001b[1;33m)\u001b[0m\u001b[1;33m\u001b[0m\u001b[1;33m\u001b[0m\u001b[0m\n\u001b[0m\u001b[0;32m     13\u001b[0m         \u001b[1;32mif\u001b[0m \u001b[0mcurr\u001b[0m \u001b[1;33m>\u001b[0m \u001b[0mcurr_max\u001b[0m \u001b[1;32mand\u001b[0m \u001b[0mA_\u001b[0m\u001b[1;33m[\u001b[0m\u001b[1;33m-\u001b[0m\u001b[1;36m1\u001b[0m\u001b[1;33m]\u001b[0m \u001b[1;33m@\u001b[0m \u001b[0msol\u001b[0m \u001b[1;33m<\u001b[0m \u001b[0mb_\u001b[0m\u001b[1;33m[\u001b[0m\u001b[1;33m-\u001b[0m\u001b[1;36m1\u001b[0m\u001b[1;33m]\u001b[0m\u001b[1;33m:\u001b[0m\u001b[1;33m\u001b[0m\u001b[1;33m\u001b[0m\u001b[0m\n\u001b[0;32m     14\u001b[0m             \u001b[0mcurr_max\u001b[0m \u001b[1;33m=\u001b[0m \u001b[0mcurr\u001b[0m\u001b[1;33m.\u001b[0m\u001b[0mcopy\u001b[0m\u001b[1;33m(\u001b[0m\u001b[1;33m)\u001b[0m\u001b[1;33m\u001b[0m\u001b[1;33m\u001b[0m\u001b[0m\n",
      "\u001b[1;32m~\\AppData\\Local\\Temp/ipykernel_764/465403353.py\u001b[0m in \u001b[0;36mLagrange_function_example\u001b[1;34m(x_, lamb_, v_, A_, b_)\u001b[0m\n\u001b[0;32m     10\u001b[0m \u001b[1;31m# x (= {0,1}^n\u001b[0m\u001b[1;33m\u001b[0m\u001b[1;33m\u001b[0m\u001b[1;33m\u001b[0m\u001b[0m\n\u001b[0;32m     11\u001b[0m \u001b[1;32mdef\u001b[0m \u001b[0mLagrange_function_example\u001b[0m\u001b[1;33m(\u001b[0m\u001b[0mx_\u001b[0m\u001b[1;33m,\u001b[0m \u001b[0mlamb_\u001b[0m\u001b[1;33m,\u001b[0m \u001b[0mv_\u001b[0m \u001b[1;33m=\u001b[0m \u001b[0mv\u001b[0m\u001b[1;33m,\u001b[0m \u001b[0mA_\u001b[0m \u001b[1;33m=\u001b[0m \u001b[0mA\u001b[0m\u001b[1;33m,\u001b[0m \u001b[0mb_\u001b[0m \u001b[1;33m=\u001b[0m \u001b[0mb\u001b[0m\u001b[1;33m)\u001b[0m\u001b[1;33m:\u001b[0m\u001b[1;33m\u001b[0m\u001b[1;33m\u001b[0m\u001b[0m\n\u001b[1;32m---> 12\u001b[1;33m     \u001b[0mg\u001b[0m \u001b[1;33m=\u001b[0m \u001b[0mA_\u001b[0m\u001b[1;33m[\u001b[0m\u001b[1;33m:\u001b[0m\u001b[1;33m]\u001b[0m \u001b[1;33m@\u001b[0m \u001b[0mx_\u001b[0m\u001b[1;33m.\u001b[0m\u001b[0mT\u001b[0m\u001b[1;33m\u001b[0m\u001b[1;33m\u001b[0m\u001b[0m\n\u001b[0m\u001b[0;32m     13\u001b[0m     \u001b[0mg\u001b[0m\u001b[1;33m[\u001b[0m\u001b[1;33m:\u001b[0m\u001b[1;33m]\u001b[0m \u001b[1;33m=\u001b[0m \u001b[0mb_\u001b[0m\u001b[1;33m[\u001b[0m\u001b[1;33m:\u001b[0m\u001b[1;33m]\u001b[0m \u001b[1;33m-\u001b[0m \u001b[0mg\u001b[0m\u001b[1;33m[\u001b[0m\u001b[1;33m:\u001b[0m\u001b[1;33m]\u001b[0m\u001b[1;33m\u001b[0m\u001b[1;33m\u001b[0m\u001b[0m\n\u001b[0;32m     14\u001b[0m     \u001b[0mL\u001b[0m \u001b[1;33m=\u001b[0m \u001b[0mtarget_function\u001b[0m\u001b[1;33m(\u001b[0m\u001b[0mx_\u001b[0m\u001b[1;33m)\u001b[0m \u001b[1;33m+\u001b[0m \u001b[0mlamb_\u001b[0m \u001b[1;33m@\u001b[0m \u001b[0mg\u001b[0m\u001b[1;33m[\u001b[0m\u001b[1;33m:\u001b[0m\u001b[1;33m-\u001b[0m\u001b[1;36m1\u001b[0m\u001b[1;33m]\u001b[0m\u001b[1;33m\u001b[0m\u001b[1;33m\u001b[0m\u001b[0m\n",
      "\u001b[1;31mKeyboardInterrupt\u001b[0m: "
     ]
    }
   ],
   "source": [
    "upper, s = full_enum(A.shape[1])"
   ]
  },
  {
   "cell_type": "code",
   "execution_count": 9,
   "id": "13138d0c",
   "metadata": {},
   "outputs": [
    {
     "name": "stdout",
     "output_type": "stream",
     "text": [
      "510.93109829001486\n"
     ]
    }
   ],
   "source": [
    "print(upper)"
   ]
  },
  {
   "cell_type": "code",
   "execution_count": null,
   "id": "c74d1dbc",
   "metadata": {},
   "outputs": [],
   "source": []
  }
 ],
 "metadata": {
  "kernelspec": {
   "display_name": "Python 3 (ipykernel)",
   "language": "python",
   "name": "python3"
  },
  "language_info": {
   "codemirror_mode": {
    "name": "ipython",
    "version": 3
   },
   "file_extension": ".py",
   "mimetype": "text/x-python",
   "name": "python",
   "nbconvert_exporter": "python",
   "pygments_lexer": "ipython3",
   "version": "3.7.11"
  }
 },
 "nbformat": 4,
 "nbformat_minor": 5
}
